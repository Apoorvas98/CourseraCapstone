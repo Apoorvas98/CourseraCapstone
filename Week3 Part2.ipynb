{
    "cells": [
        {
            "cell_type": "markdown",
            "metadata": {
                "collapsed": true
            },
            "source": "# Week 3 Question 2"
        },
        {
            "cell_type": "code",
            "execution_count": 1,
            "metadata": {},
            "outputs": [],
            "source": "import numpy as np # library to handle data in a vectorized manner\nimport pandas as pd # library for data analsysis \n        \ndd = pd.read_csv(\"Toronto_Q1_Answer.csv\")"
        },
        {
            "cell_type": "code",
            "execution_count": 2,
            "metadata": {},
            "outputs": [
                {
                    "name": "stdout",
                    "output_type": "stream",
                    "text": "--2021-01-18 00:24:51--  http://cocl.us/Geospatial_data\nResolving cocl.us (cocl.us)... 169.63.96.194, 169.63.96.176\nConnecting to cocl.us (cocl.us)|169.63.96.194|:80... connected.\nHTTP request sent, awaiting response... 301 Moved Permanently\nLocation: https://cocl.us/Geospatial_data [following]\n--2021-01-18 00:25:18--  https://cocl.us/Geospatial_data\nConnecting to cocl.us (cocl.us)|169.63.96.194|:443... connected.\nHTTP request sent, awaiting response... 301 Moved Permanently\nLocation: https://ibm.box.com/shared/static/9afzr83pps4pwf2smjjcf1y5mvgb18rr.csv [following]\n--2021-01-18 00:25:18--  https://ibm.box.com/shared/static/9afzr83pps4pwf2smjjcf1y5mvgb18rr.csv\nResolving ibm.box.com (ibm.box.com)... 107.152.29.197\nConnecting to ibm.box.com (ibm.box.com)|107.152.29.197|:443... connected.\nHTTP request sent, awaiting response... 301 Moved Permanently\nLocation: /public/static/9afzr83pps4pwf2smjjcf1y5mvgb18rr.csv [following]\n--2021-01-18 00:25:19--  https://ibm.box.com/public/static/9afzr83pps4pwf2smjjcf1y5mvgb18rr.csv\nReusing existing connection to ibm.box.com:443.\nHTTP request sent, awaiting response... 301 Moved Permanently\nLocation: https://ibm.ent.box.com/public/static/9afzr83pps4pwf2smjjcf1y5mvgb18rr.csv [following]\n--2021-01-18 00:25:19--  https://ibm.ent.box.com/public/static/9afzr83pps4pwf2smjjcf1y5mvgb18rr.csv\nResolving ibm.ent.box.com (ibm.ent.box.com)... 185.235.236.201\nConnecting to ibm.ent.box.com (ibm.ent.box.com)|185.235.236.201|:443... connected.\nHTTP request sent, awaiting response... 302 Found\nLocation: https://public.boxcloud.com/d/1/b1!D6Xhmue8M72s6PJBdMGhC46a10y-Irt6_Fm7baWSfQU9VDa6xEzVLMBlmyDgK6N9tkvqhqbbcNmR0eIw1X6nt35PzMvMb7BpDB4MWy6RM7C3nClF4qpYihh0MH9_Uu8wGsXkGXnzJGazbPBquxjTi_C-MvQNV3xfRmm6z7tpHOvrdCOUbeHYlsKwoFb0Pjc-3YjA3-EocyOb-KeGa5hFyzIuuEe40YgVQrTS3nz3LnySyNG1uqrzcygshRizSZpJtuN6K77U02YuGr-nRaR8VDwiqHMqySWuvI5BelyMkLJ3-0DZ0xeAncUOqJB02L6gJHIF3g8EXfBdRTe_vuEJ2Q7wPwJDneKyYdaH5HLU4vDKr70TN0n9kN38n8aOIEz-X8tzk4XWkQDm4revxZdqmhMo3G_7D41cwZrFW-pmGR2WuNNt-YeJEVdg7TAylbThPHcF8osm5DNSxx1J_swLKWg9FukGm-UtM1KqHfLR5Vz-7vtkzXvmWG6PIVgm6uNpM8dhPlqg_LjD17Qz8Wr5g5F3zfGaQurJlTQLYR_RUC5YNiSQy7_PDv7RNHfJcZ9eKqTS6_h43n3LJ1821pPML_LzCd1_xMF9hM64UJa4_5g8-ep4qswTrEjp8aKSXXvKJxQFAvAz6ajHAjOSJ_MValEICQJtajkq34Hd_QJKLIEDae7PdtUyNSP6O0tfI2DfBj7nNI_p0xlvTY180RhxqAlONKcZzYQY8RUamDcHMmxCdzSKs0YJxHnEOdXuIvgUGLFK7t8mSHxi_iaEvqDB7WLiFgfNdAgbJARQ9JsninK1A1oVJcRRdsajZvZMmm0qVj-ervV5U_tLMbSCs1jvcs6AaxSm4HOnZJg9vPucnv8hefIz-HQJcoXqfUKe6XDeRpR69AFr0sVKGLW3FgxUpq3v-LvLxDmM-Il7V3aSzTiW9D-yNUKOYBW2LP3FMwdwUNwofrWmGos94ei0gRhl047taxeKRu8HIRGEvIIOd7SZ5hyixbdsUOzmfg2-ih5gphnFRQJFn4Jp1vPU4D6wfI6qsvSPDGNMLaXGPdIDkFki_8bc4YjELlfJyngmBaC1PSrjS4sRs89xyJnQx9stK7AiAtjABR5E-Xszs1q0U6NsYi3A8IPR0QswFvly9ElTNg6RKC05DuYxx184DeNH3Hc0NRJmyUoUcjHdbGXVfqcBh_-MTm3fiJ1i-0kpTZ5RgfjkfxvahmoNU7DldZeJqiougZ2Ci4ltYhM7ujziFi6eMN5aE9u-I8TUyPMjZ5Jdg6HvNVSs07hSIm3T_1sr-RWNk3k6MIg4LlFqItq1lt2gGzQcimbLnjh3IbKwj4dUdeewgUv6uegcBHGcgiaLrp7xiuz_71hh5vvobB233acxazIaSReoTDri126nF8V-QVoeSpaD9znxQBA8hdmuTUMBT7_pLQ9EQy17BajNeAOlVQ../download [following]\n--2021-01-18 00:25:20--  https://public.boxcloud.com/d/1/b1!D6Xhmue8M72s6PJBdMGhC46a10y-Irt6_Fm7baWSfQU9VDa6xEzVLMBlmyDgK6N9tkvqhqbbcNmR0eIw1X6nt35PzMvMb7BpDB4MWy6RM7C3nClF4qpYihh0MH9_Uu8wGsXkGXnzJGazbPBquxjTi_C-MvQNV3xfRmm6z7tpHOvrdCOUbeHYlsKwoFb0Pjc-3YjA3-EocyOb-KeGa5hFyzIuuEe40YgVQrTS3nz3LnySyNG1uqrzcygshRizSZpJtuN6K77U02YuGr-nRaR8VDwiqHMqySWuvI5BelyMkLJ3-0DZ0xeAncUOqJB02L6gJHIF3g8EXfBdRTe_vuEJ2Q7wPwJDneKyYdaH5HLU4vDKr70TN0n9kN38n8aOIEz-X8tzk4XWkQDm4revxZdqmhMo3G_7D41cwZrFW-pmGR2WuNNt-YeJEVdg7TAylbThPHcF8osm5DNSxx1J_swLKWg9FukGm-UtM1KqHfLR5Vz-7vtkzXvmWG6PIVgm6uNpM8dhPlqg_LjD17Qz8Wr5g5F3zfGaQurJlTQLYR_RUC5YNiSQy7_PDv7RNHfJcZ9eKqTS6_h43n3LJ1821pPML_LzCd1_xMF9hM64UJa4_5g8-ep4qswTrEjp8aKSXXvKJxQFAvAz6ajHAjOSJ_MValEICQJtajkq34Hd_QJKLIEDae7PdtUyNSP6O0tfI2DfBj7nNI_p0xlvTY180RhxqAlONKcZzYQY8RUamDcHMmxCdzSKs0YJxHnEOdXuIvgUGLFK7t8mSHxi_iaEvqDB7WLiFgfNdAgbJARQ9JsninK1A1oVJcRRdsajZvZMmm0qVj-ervV5U_tLMbSCs1jvcs6AaxSm4HOnZJg9vPucnv8hefIz-HQJcoXqfUKe6XDeRpR69AFr0sVKGLW3FgxUpq3v-LvLxDmM-Il7V3aSzTiW9D-yNUKOYBW2LP3FMwdwUNwofrWmGos94ei0gRhl047taxeKRu8HIRGEvIIOd7SZ5hyixbdsUOzmfg2-ih5gphnFRQJFn4Jp1vPU4D6wfI6qsvSPDGNMLaXGPdIDkFki_8bc4YjELlfJyngmBaC1PSrjS4sRs89xyJnQx9stK7AiAtjABR5E-Xszs1q0U6NsYi3A8IPR0QswFvly9ElTNg6RKC05DuYxx184DeNH3Hc0NRJmyUoUcjHdbGXVfqcBh_-MTm3fiJ1i-0kpTZ5RgfjkfxvahmoNU7DldZeJqiougZ2Ci4ltYhM7ujziFi6eMN5aE9u-I8TUyPMjZ5Jdg6HvNVSs07hSIm3T_1sr-RWNk3k6MIg4LlFqItq1lt2gGzQcimbLnjh3IbKwj4dUdeewgUv6uegcBHGcgiaLrp7xiuz_71hh5vvobB233acxazIaSReoTDri126nF8V-QVoeSpaD9znxQBA8hdmuTUMBT7_pLQ9EQy17BajNeAOlVQ../download\nResolving public.boxcloud.com (public.boxcloud.com)... 107.152.29.200\nConnecting to public.boxcloud.com (public.boxcloud.com)|107.152.29.200|:443... connected.\nHTTP request sent, awaiting response... 200 OK\nLength: 2891 (2.8K) [text/csv]\nSaving to: \u2018Geospatial_data\u2019\n\nGeospatial_data     100%[===================>]   2.82K  --.-KB/s    in 0s      \n\n2021-01-18 00:25:21 (51.8 MB/s) - \u2018Geospatial_data\u2019 saved [2891/2891]\n\n"
                }
            ],
            "source": "!wget http://cocl.us/Geospatial_data"
        },
        {
            "cell_type": "code",
            "execution_count": 3,
            "metadata": {},
            "outputs": [
                {
                    "data": {
                        "text/html": "<div>\n<style scoped>\n    .dataframe tbody tr th:only-of-type {\n        vertical-align: middle;\n    }\n\n    .dataframe tbody tr th {\n        vertical-align: top;\n    }\n\n    .dataframe thead th {\n        text-align: right;\n    }\n</style>\n<table border=\"1\" class=\"dataframe\">\n  <thead>\n    <tr style=\"text-align: right;\">\n      <th></th>\n      <th>Postcode</th>\n      <th>Borough</th>\n      <th>Neighborhood</th>\n      <th>Latitude</th>\n      <th>Longitude</th>\n    </tr>\n  </thead>\n  <tbody>\n    <tr>\n      <th>0</th>\n      <td>M3A</td>\n      <td>North York</td>\n      <td>Parkwoods</td>\n      <td>43.753259</td>\n      <td>-79.329656</td>\n    </tr>\n    <tr>\n      <th>1</th>\n      <td>M4A</td>\n      <td>North York</td>\n      <td>Victoria Village</td>\n      <td>43.725882</td>\n      <td>-79.315572</td>\n    </tr>\n    <tr>\n      <th>2</th>\n      <td>M5A</td>\n      <td>Downtown Toronto</td>\n      <td>Regent Park, Harbourfront</td>\n      <td>43.654260</td>\n      <td>-79.360636</td>\n    </tr>\n    <tr>\n      <th>3</th>\n      <td>M6A</td>\n      <td>North York</td>\n      <td>Lawrence Manor, Lawrence Heights</td>\n      <td>43.718518</td>\n      <td>-79.464763</td>\n    </tr>\n    <tr>\n      <th>4</th>\n      <td>M7A</td>\n      <td>Downtown Toronto</td>\n      <td>Queen's Park, Ontario Provincial Government</td>\n      <td>43.662301</td>\n      <td>-79.389494</td>\n    </tr>\n    <tr>\n      <th>...</th>\n      <td>...</td>\n      <td>...</td>\n      <td>...</td>\n      <td>...</td>\n      <td>...</td>\n    </tr>\n    <tr>\n      <th>98</th>\n      <td>M8X</td>\n      <td>Etobicoke</td>\n      <td>The Kingsway, Montgomery Road, Old Mill North</td>\n      <td>43.653654</td>\n      <td>-79.506944</td>\n    </tr>\n    <tr>\n      <th>99</th>\n      <td>M4Y</td>\n      <td>Downtown Toronto</td>\n      <td>Church and Wellesley</td>\n      <td>43.665860</td>\n      <td>-79.383160</td>\n    </tr>\n    <tr>\n      <th>100</th>\n      <td>M7Y</td>\n      <td>East Toronto</td>\n      <td>Business reply mail Processing Centre, South C...</td>\n      <td>43.662744</td>\n      <td>-79.321558</td>\n    </tr>\n    <tr>\n      <th>101</th>\n      <td>M8Y</td>\n      <td>Etobicoke</td>\n      <td>Old Mill South, King's Mill Park, Sunnylea, Hu...</td>\n      <td>43.636258</td>\n      <td>-79.498509</td>\n    </tr>\n    <tr>\n      <th>102</th>\n      <td>M8Z</td>\n      <td>Etobicoke</td>\n      <td>Mimico NW, The Queensway West, South of Bloor,...</td>\n      <td>43.628841</td>\n      <td>-79.520999</td>\n    </tr>\n  </tbody>\n</table>\n<p>103 rows \u00d7 5 columns</p>\n</div>",
                        "text/plain": "    Postcode           Borough  \\\n0        M3A        North York   \n1        M4A        North York   \n2        M5A  Downtown Toronto   \n3        M6A        North York   \n4        M7A  Downtown Toronto   \n..       ...               ...   \n98       M8X         Etobicoke   \n99       M4Y  Downtown Toronto   \n100      M7Y      East Toronto   \n101      M8Y         Etobicoke   \n102      M8Z         Etobicoke   \n\n                                          Neighborhood   Latitude  Longitude  \n0                                            Parkwoods  43.753259 -79.329656  \n1                                     Victoria Village  43.725882 -79.315572  \n2                            Regent Park, Harbourfront  43.654260 -79.360636  \n3                     Lawrence Manor, Lawrence Heights  43.718518 -79.464763  \n4          Queen's Park, Ontario Provincial Government  43.662301 -79.389494  \n..                                                 ...        ...        ...  \n98       The Kingsway, Montgomery Road, Old Mill North  43.653654 -79.506944  \n99                                Church and Wellesley  43.665860 -79.383160  \n100  Business reply mail Processing Centre, South C...  43.662744 -79.321558  \n101  Old Mill South, King's Mill Park, Sunnylea, Hu...  43.636258 -79.498509  \n102  Mimico NW, The Queensway West, South of Bloor,...  43.628841 -79.520999  \n\n[103 rows x 5 columns]"
                    },
                    "execution_count": 3,
                    "metadata": {},
                    "output_type": "execute_result"
                }
            ],
            "source": "geo = pd.read_csv('Geospatial_data')\ngeo.columns = ['Postcode', 'Latitude', 'Longitude']\n\ndf_outer = pd.merge(dd, geo, on='Postcode', how='inner')\ndf_outer.to_csv(\"Toronto_Q2_Answer.csv\", index=False) #save the results so I can use them in Q3\ndf_outer"
        }
    ],
    "metadata": {
        "kernelspec": {
            "display_name": "Python 3.7",
            "language": "python",
            "name": "python3"
        },
        "language_info": {
            "codemirror_mode": {
                "name": "ipython",
                "version": 3
            },
            "file_extension": ".py",
            "mimetype": "text/x-python",
            "name": "python",
            "nbconvert_exporter": "python",
            "pygments_lexer": "ipython3",
            "version": "3.7.9"
        }
    },
    "nbformat": 4,
    "nbformat_minor": 1
}